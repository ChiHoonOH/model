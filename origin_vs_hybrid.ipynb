{
 "cells": [
  {
   "cell_type": "code",
   "execution_count": null,
   "metadata": {},
   "outputs": [],
   "source": [
    "# lstm과 lstm + prophet을 사용한 예측 결과 비교를 위한 코드\n",
    "# 임의 생성 시계열 데이터 기준"
   ]
  },
  {
   "cell_type": "code",
   "execution_count": 1,
   "metadata": {},
   "outputs": [],
   "source": [
    "import numpy as np\n",
    "import pandas as pd\n",
    "import torch\n",
    "import torch.nn as nn\n",
    "from torch.utils.data import DataLoader, TensorDataset\n",
    "import matplotlib.pyplot as plt\n",
    "\n",
    "# (Prophet이 없다면 아래처럼 sklearn을 사용해 추세+계절성 모델 대체)\n",
    "try:\n",
    "    from prophet import Prophet\n",
    "    use_prophet = True\n",
    "except ImportError:\n",
    "    from sklearn.linear_model import LinearRegression\n",
    "    use_prophet = False"
   ]
  },
  {
   "cell_type": "code",
   "execution_count": 2,
   "metadata": {},
   "outputs": [],
   "source": [
    "# 1) Synthetic series 생성 (change-points + monthly seasonality)\n",
    "np.random.seed(42)\n",
    "length = 200\n",
    "dates = pd.date_range('2020-01-01', periods=length, freq='D')\n",
    "t = np.arange(length)\n",
    "trend = np.piecewise(\n",
    "    t,\n",
    "    [t < 60, (t >= 60)&(t<130), t>=130],\n",
    "    [lambda x: 0.2*x,\n",
    "     lambda x: 0.2*60 + 0.5*(x-60),\n",
    "     lambda x: 0.2*60 + 0.5*70 - 0.1*(x-130)]\n",
    ")\n",
    "season = 5 * np.sin(2*np.pi*t/30)\n",
    "noise = np.random.normal(0,1,length)\n",
    "y = trend + season + noise"
   ]
  },
  {
   "cell_type": "code",
   "execution_count": 3,
   "metadata": {},
   "outputs": [],
   "source": [
    "# 학습/테스트 분할\n",
    "train_len = 150\n",
    "y_train, y_test = y[:train_len], y[train_len:]\n",
    "dates_test = dates[train_len:]"
   ]
  },
  {
   "cell_type": "code",
   "execution_count": 28,
   "metadata": {},
   "outputs": [],
   "source": [
    "# 2) Prophet or 대체 모델로 기본예측(base_pred) 생성\n",
    "# if use_prophet:\n",
    "#     df = pd.DataFrame({'ds': dates, 'y': y})\n",
    "#     m = Prophet(weekly_seasonality=False, yearly_seasonality=False, daily_seasonality=False)\n",
    "#     m.add_seasonality(name='monthly', period=30, fourier_order=5)\n",
    "#     m.fit(df.iloc[:train_len])\n",
    "#     future = m.make_future_dataframe(periods=length-train_len)\n",
    "#     fc = m.predict(future)\n",
    "#     base_pred = fc['yhat'].values[train_len:]\n",
    "# else:\n",
    "# 선형회귀 + sin/cos 대체\n",
    "from sklearn.linear_model import LinearRegression\n",
    "X = np.column_stack([t, np.sin(2*np.pi*t/30), np.cos(2*np.pi*t/30)])\n",
    "lr = LinearRegression().fit(X[:train_len], y_train)\n",
    "base_pred = lr.predict(X)[:train_len]"
   ]
  },
  {
   "cell_type": "code",
   "execution_count": 30,
   "metadata": {},
   "outputs": [],
   "source": [
    "# 3) LSTM 학습 준비 함수\n",
    "def create_dataset(series, window):\n",
    "    X, Y = [], []\n",
    "    for i in range(len(series)-window):\n",
    "        X.append(series[i:i+window])\n",
    "        Y.append(series[i+window])\n",
    "    return np.array(X), np.array(Y)\n",
    "\n",
    "window = 30\n",
    "# 3a) 단순 LSTM on raw y_train\n",
    "X_raw, Y_raw = create_dataset(y_train, window)\n",
    "# 3b) 하이브리드용: 잔차 학습\n",
    "residual = y_train - base_pred\n",
    "# residual = y_train - (base_pred if use_prophet else lr.predict(np.column_stack([t, np.sin(2*np.pi*t/30), np.cos(2*np.pi*t/30)]))[:train_len])\n",
    "X_res, Y_res   = create_dataset(residual, window)\n",
    "\n",
    "def to_loader(X, Y):\n",
    "    X_t = torch.tensor(X, dtype=torch.float32).unsqueeze(-1)\n",
    "    Y_t = torch.tensor(Y, dtype=torch.float32).unsqueeze(-1)\n",
    "    return DataLoader(TensorDataset(X_t, Y_t), batch_size=16, shuffle=True)\n",
    "\n",
    "loader_raw = to_loader(X_raw, Y_raw)\n",
    "loader_res = to_loader(X_res, Y_res) \n",
    "\n",
    "# 4) LSTM 모델 정의\n",
    "class LSTMModel(nn.Module):\n",
    "    def __init__(self):\n",
    "        super().__init__()\n",
    "        self.lstm = nn.LSTM(1, 16, batch_first=True)\n",
    "        self.fc   = nn.Linear(16, 1)\n",
    "    def forward(self, x):\n",
    "        out, _ = self.lstm(x)\n",
    "        return self.fc(out[:, -1, :])"
   ]
  },
  {
   "cell_type": "code",
   "execution_count": null,
   "metadata": {},
   "outputs": [],
   "source": [
    "base_pred의 의미가 정확히 뭔가?"
   ]
  },
  {
   "cell_type": "code",
   "execution_count": 10,
   "metadata": {},
   "outputs": [
    {
     "data": {
      "text/plain": [
       "(150,)"
      ]
     },
     "execution_count": 10,
     "metadata": {},
     "output_type": "execute_result"
    }
   ],
   "source": [
    "y_train.shape"
   ]
  },
  {
   "cell_type": "code",
   "execution_count": 8,
   "metadata": {},
   "outputs": [
    {
     "data": {
      "text/plain": [
       "(50,)"
      ]
     },
     "execution_count": 8,
     "metadata": {},
     "output_type": "execute_result"
    }
   ],
   "source": [
    "(base_pred if use_prophet else lr.predict(np.column_stack([t, np.sin(2*np.pi*t/30), np.cos(2*np.pi*t/30)]))[:train_len]).shape"
   ]
  },
  {
   "cell_type": "code",
   "execution_count": 31,
   "metadata": {},
   "outputs": [],
   "source": [
    "# 5) 단순 LSTM 학습\n",
    "model_raw = LSTMModel()\n",
    "opt_raw = torch.optim.Adam(model_raw.parameters(), lr=0.01)\n",
    "loss_fn = nn.MSELoss()\n",
    "for _ in range(100):\n",
    "    for xb, yb in loader_raw:\n",
    "        opt_raw.zero_grad()\n",
    "        loss_fn(model_raw(xb), yb).backward()\n",
    "        opt_raw.step()"
   ]
  },
  {
   "cell_type": "code",
   "execution_count": 32,
   "metadata": {},
   "outputs": [],
   "source": [
    "# 6) 잔차 LSTM 학습\n",
    "model_res = LSTMModel()\n",
    "opt_res  = torch.optim.Adam(model_res.parameters(), lr=0.01)\n",
    "for _ in range(100):\n",
    "    for xb, yb in loader_res:\n",
    "        opt_res.zero_grad()\n",
    "        loss_fn(model_res(xb), yb).backward()\n",
    "        opt_res.step()"
   ]
  },
  {
   "cell_type": "code",
   "execution_count": 33,
   "metadata": {},
   "outputs": [],
   "source": [
    "# 7) 예측: 단순 LSTM - test 값을 알고 싶은거고\n",
    "simple_preds = []\n",
    "seq = y_train.copy()\n",
    "for _ in range(len(y_test)):\n",
    "    xin = torch.tensor(seq[-window:], dtype=torch.float32).unsqueeze(0).unsqueeze(-1)\n",
    "    with torch.no_grad():\n",
    "        p = model_raw(xin).item()\n",
    "    simple_preds.append(p)\n",
    "    seq = np.append(seq, p)"
   ]
  },
  {
   "cell_type": "code",
   "execution_count": 34,
   "metadata": {},
   "outputs": [
    {
     "ename": "ValueError",
     "evalue": "operands could not be broadcast together with shapes (150,) (50,) ",
     "output_type": "error",
     "traceback": [
      "\u001b[1;31m---------------------------------------------------------------------------\u001b[0m",
      "\u001b[1;31mValueError\u001b[0m                                Traceback (most recent call last)",
      "Cell \u001b[1;32mIn[34], line 10\u001b[0m\n\u001b[0;32m      8\u001b[0m     res_preds\u001b[38;5;241m.\u001b[39mappend(p)\n\u001b[0;32m      9\u001b[0m     seq_res \u001b[38;5;241m=\u001b[39m np\u001b[38;5;241m.\u001b[39mappend(seq_res, p)\n\u001b[1;32m---> 10\u001b[0m hybrid_preds \u001b[38;5;241m=\u001b[39m \u001b[43mbase_pred\u001b[49m\u001b[43m \u001b[49m\u001b[38;5;241;43m+\u001b[39;49m\u001b[43m \u001b[49m\u001b[43mnp\u001b[49m\u001b[38;5;241;43m.\u001b[39;49m\u001b[43marray\u001b[49m\u001b[43m(\u001b[49m\u001b[43mres_preds\u001b[49m\u001b[43m)\u001b[49m\n",
      "\u001b[1;31mValueError\u001b[0m: operands could not be broadcast together with shapes (150,) (50,) "
     ]
    }
   ],
   "source": [
    "# 8) 예측: 하이브리드 LSTM+base\n",
    "res_preds = []\n",
    "seq_res   = residual.copy()\n",
    "for _ in range(len(y_test)):\n",
    "    xin = torch.tensor(seq_res[-window:], dtype=torch.float32).unsqueeze(0).unsqueeze(-1)\n",
    "    with torch.no_grad():\n",
    "        p = model_res(xin).item()\n",
    "    res_preds.append(p)\n",
    "    seq_res = np.append(seq_res, p)\n",
    "hybrid_preds = base_pred + np.array(res_preds)"
   ]
  },
  {
   "cell_type": "code",
   "execution_count": null,
   "metadata": {},
   "outputs": [],
   "source": [
    "# 9) MSE 비교\n",
    "mse_raw    = np.mean((y_test - simple_preds)**2)\n",
    "mse_hybrid = np.mean((y_test - hybrid_preds)**2)"
   ]
  },
  {
   "cell_type": "code",
   "execution_count": null,
   "metadata": {},
   "outputs": [],
   "source": [
    "# 10) 결과 플롯\n",
    "plt.figure()\n",
    "plt.plot(dates_test, y_test,      label='Actual')\n",
    "plt.plot(dates_test, simple_preds, label='Simple LSTM')\n",
    "plt.plot(dates_test, hybrid_preds, label='Hybrid LSTM+Base')\n",
    "plt.legend()\n",
    "plt.show()\n",
    "\n",
    "print(f'MSE Simple LSTM   : {mse_raw:.3f}')\n",
    "print(f'MSE Hybrid (L+P)   : {mse_hybrid:.3f}')"
   ]
  },
  {
   "cell_type": "code",
   "execution_count": null,
   "metadata": {},
   "outputs": [],
   "source": []
  }
 ],
 "metadata": {
  "kernelspec": {
   "display_name": "torch_test",
   "language": "python",
   "name": "torch_test"
  },
  "language_info": {
   "codemirror_mode": {
    "name": "ipython",
    "version": 3
   },
   "file_extension": ".py",
   "mimetype": "text/x-python",
   "name": "python",
   "nbconvert_exporter": "python",
   "pygments_lexer": "ipython3",
   "version": "3.8.3"
  }
 },
 "nbformat": 4,
 "nbformat_minor": 4
}
